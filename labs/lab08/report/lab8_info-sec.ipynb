{
 "cells": [
  {
   "cell_type": "code",
   "execution_count": 1,
   "id": "e6957c0c-48c4-4308-b336-385d242963c3",
   "metadata": {},
   "outputs": [
    {
     "name": "stdout",
     "output_type": "stream",
     "text": [
      "Открытый текст:  С Новым Годом, друзья! \n",
      "Ключ:  wvE6muNdEAyNBN35TuV0N4 \n",
      "Шифротекст:  іVјЈџоѲDіѿэѰѾb\u0013ЁДжѡѼЁ\u0015 \n",
      "Исходный текст:  С Новым Годом, друзья!\n",
      "Открытый текст:  У Слона домов, огого!! \n",
      "Ключ:  wvE6muNdEAyNBN35TuV0N4 \n",
      "Шифротекст:  єVѤЍѓшѾDѱѿхѰѰb\u0013ЋѧыѥЎo\u0015 \n",
      "Исходный текст:  У Слона домов, огого!!\n",
      "Расшифровать второй текст, зная первый:  У Слона домов, огого!!\n",
      "Расшифровать первый текст, зная второй:  С Новым Годом, друзья!\n"
     ]
    }
   ],
   "source": [
    "import random\n",
    "import string\n",
    "\n",
    "def generate_key_hex(text):\n",
    "    key = ''\n",
    "    for i in range(len(text)):\n",
    "        key += random.choice(string.ascii_letters + string.digits)\n",
    "    return key\n",
    "\n",
    "def en_de_crypt(text, key):\n",
    "    new_text = ''\n",
    "    for i in range(len(text)): \n",
    "        new_text += chr(ord(text[i]) ^ ord(key[i % len(key)]))\n",
    "    return new_text\n",
    "\n",
    "t1 = 'С Новым Годом, друзья!'\n",
    "key = generate_key_hex(t1)\n",
    "en_t1 = en_de_crypt(t1, key)\n",
    "de_t1 = en_de_crypt(en_t1, key)\n",
    "\n",
    "t2 = \"У Слона домов, огого!!\"\n",
    "en_t2 = en_de_crypt(t2, key)\n",
    "de_t2 = en_de_crypt(en_t2, key)\n",
    "\n",
    "print('Открытый текст: ', t1, \"\\nКлюч: \", key, '\\nШифротекст: ', en_t1, '\\nИсходный текст: ', de_t1,)\n",
    "print('Открытый текст: ', t2, \"\\nКлюч: \", key, '\\nШифротекст: ', en_t2, '\\nИсходный текст: ', de_t2,)\n",
    "\n",
    "r = en_de_crypt(en_t2, en_t1) \n",
    "print('Расшифровать второй текст, зная первый: ', en_de_crypt(t1, r))\n",
    "print('Расшифровать первый текст, зная второй: ', en_de_crypt(t2, r))"
   ]
  },
  {
   "cell_type": "code",
   "execution_count": null,
   "id": "02b0197b-5a72-4cf2-9b55-726be5570891",
   "metadata": {},
   "outputs": [],
   "source": []
  }
 ],
 "metadata": {
  "kernelspec": {
   "display_name": "Python 3 (ipykernel)",
   "language": "python",
   "name": "python3"
  },
  "language_info": {
   "codemirror_mode": {
    "name": "ipython",
    "version": 3
   },
   "file_extension": ".py",
   "mimetype": "text/x-python",
   "name": "python",
   "nbconvert_exporter": "python",
   "pygments_lexer": "ipython3",
   "version": "3.12.4"
  }
 },
 "nbformat": 4,
 "nbformat_minor": 5
}
